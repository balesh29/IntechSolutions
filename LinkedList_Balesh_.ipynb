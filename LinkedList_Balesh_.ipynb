{
  "nbformat": 4,
  "nbformat_minor": 0,
  "metadata": {
    "colab": {
      "provenance": []
    },
    "kernelspec": {
      "name": "python3",
      "display_name": "Python 3"
    },
    "language_info": {
      "name": "python"
    }
  },
  "cells": [
    {
      "cell_type": "code",
      "source": [
        "class LinkedList:\n",
        "    def __init__(self, value=0, next=None):\n",
        "        self.value = value\n",
        "        self.next = next\n",
        "\n",
        "# Function to print the linked list\n",
        "def print_linked_list(head):\n",
        "    current = head\n",
        "    while current:\n",
        "        print(current.value, end=\" -> \")\n",
        "        current = current.next\n",
        "    print(\"None\")\n",
        "\n",
        "# Function to create a linked list based on user input\n",
        "def create_linked_list():\n",
        "    head = None\n",
        "    tail = None\n",
        "\n",
        "    while True:\n",
        "        user_input = input(\"Enter a value for the node (type 'exit' to finish): \")\n",
        "\n",
        "        if user_input.lower() == 'exit':\n",
        "            break\n",
        "\n",
        "        try:\n",
        "            value = int(user_input)\n",
        "        except ValueError:\n",
        "            print(\"Invalid input. Please enter an integer.\")\n",
        "            continue\n",
        "\n",
        "        new_node = LinkedList(value)\n",
        "\n",
        "        if not head:\n",
        "            head = new_node\n",
        "            tail = new_node\n",
        "        else:\n",
        "            tail.next = new_node\n",
        "            tail = new_node\n",
        "\n",
        "\n",
        "    return head\n",
        "def find_kth_from_last(head, k):\n",
        "    if not head or k <= 0:\n",
        "        return None\n",
        "\n",
        "    # Initialize two pointers\n",
        "    P_pointer = head\n",
        "    Q_pointer = head\n",
        "\n",
        "    # Move the Q_pointer k nodes ahead\n",
        "    for _ in range(k):\n",
        "        if not Q_pointer:\n",
        "            return None  # K is greater than the length of the list\n",
        "\n",
        "        Q_pointer = Q_pointer.next\n",
        "\n",
        "    # Move both pointers until the Q_pointer reaches the end\n",
        "    while Q_pointer:\n",
        "        P_pointer = P_pointer.next\n",
        "        Q_pointer = Q_pointer.next\n",
        "\n",
        "    return P_pointer.value\n",
        "\n",
        "\n",
        "# Create a linked list based on user input\n",
        "LL = create_linked_list()\n",
        "\n",
        "# Print the linked list\n",
        "print(\"Linked List:\")\n",
        "print_linked_list(LL)\n",
        "k=int(input(\"Enter the Kth node to find : \"))\n",
        "result = find_kth_from_last(LL, k)\n",
        "print(f\"The {k}th node from the last is: {result}\")"
      ],
      "metadata": {
        "id": "meaxOaF8Ff_b",
        "colab": {
          "base_uri": "https://localhost:8080/"
        },
        "outputId": "ab937789-5693-4953-ba03-fa03e67a11ee"
      },
      "execution_count": null,
      "outputs": [
        {
          "output_type": "stream",
          "name": "stdout",
          "text": [
            "Enter a value for the node (type 'exit' to finish): 5\n",
            "Enter a value for the node (type 'exit' to finish): 6\n",
            "Enter a value for the node (type 'exit' to finish): 12\n",
            "Enter a value for the node (type 'exit' to finish): 7\n",
            "Enter a value for the node (type 'exit' to finish): 8\n",
            "Enter a value for the node (type 'exit' to finish): 9\n",
            "Enter a value for the node (type 'exit' to finish): exit\n",
            "Linked List:\n",
            "5 -> 6 -> 12 -> 7 -> 8 -> 9 -> None\n",
            "Enter the Kth node to find : 4\n",
            "The 4th node from the last is: 12\n"
          ]
        }
      ]
    },
    {
      "cell_type": "code",
      "source": [
        "6"
      ],
      "metadata": {
        "id": "0Qf0Fu1Te_0b"
      },
      "execution_count": null,
      "outputs": []
    }
  ]
}