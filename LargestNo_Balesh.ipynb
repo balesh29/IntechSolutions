{
  "nbformat": 4,
  "nbformat_minor": 0,
  "metadata": {
    "colab": {
      "provenance": []
    },
    "kernelspec": {
      "name": "python3",
      "display_name": "Python 3"
    },
    "language_info": {
      "name": "python"
    }
  },
  "cells": [
    {
      "cell_type": "code",
      "source": [
        "def removedigit(n, index):\n",
        "    num_str = str(n)\n",
        "## Convert the input 'number' to a string and store it in the variable 'num_str'.\n",
        "    if 0 <= index < len(num_str):\n",
        "# Check if the specified 'index' is within the valid range of digits in 'num_str\n",
        "        new_number_str = num_str[:index] + num_str[index+1:]\n",
        "## Create a new string by removing the digit at 'index' and convert it back to an integer\n",
        "        new_number = int(new_number_str)\n",
        "        return new_number\n",
        "    else:\n",
        "        print(\"Invalid index. Please choose a valid index.\")\n",
        "        return n\n",
        "\n",
        "original_number = int(input(\"Enter the original number: \"))\n",
        "itr =int(input(\"Enter the digit index to remove : \"))\n",
        "index_to_remove = itr  # Replace with the index of the digit you want to remove\n",
        "\n",
        "result = removedigit(original_number, index_to_remove)\n",
        "print(\"The number after removing the digit at index\", index_to_remove, \":\", result)\n"
      ],
      "metadata": {
        "colab": {
          "base_uri": "https://localhost:8080/"
        },
        "id": "wieK1I23Pzqt",
        "outputId": "7748fcb0-a6f1-4cbb-8a94-3164f244ecf3"
      },
      "execution_count": null,
      "outputs": [
        {
          "output_type": "stream",
          "name": "stdout",
          "text": [
            "Enter the original number2345\n",
            "Enter the digit index to remove : 2\n",
            "The number after removing the digit at index 2 : 235\n"
          ]
        }
      ]
    },
    {
      "cell_type": "code",
      "source": [],
      "metadata": {
        "id": "e_FNqUwUP0Qt"
      },
      "execution_count": null,
      "outputs": []
    }
  ]
}