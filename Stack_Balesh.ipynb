{
  "nbformat": 4,
  "nbformat_minor": 0,
  "metadata": {
    "colab": {
      "provenance": []
    },
    "kernelspec": {
      "name": "python3",
      "display_name": "Python 3"
    },
    "language_info": {
      "name": "python"
    }
  },
  "cells": [
    {
      "cell_type": "code",
      "source": [
        "class Stack:\n",
        "    def __init__(self):\n",
        "        self.stack = [] #This is the main stack that holds the values.\n",
        "        self.minvaluein_stack = [] #This stack that keeps track of the minimum\n",
        "\n",
        "    def push(self, value): #Push Operation : Adds a new value to the main stack.\n",
        "        self.stack.append(value)\n",
        "        if not self.minvaluein_stack or value <= self.minvaluein_stack[-1]:\n",
        "            self.minvaluein_stack.append(value)\n",
        "\n",
        "    def pop(self): #Pop Operation : Removes and returns the top value from the main stack.\n",
        "        if not self.stack:\n",
        "            return None\n",
        "        popped_value = self.stack.pop()\n",
        "        if popped_value == self.minvaluein_stack[-1]:\n",
        "            self.minvaluein_stack.pop()\n",
        "        return popped_value\n",
        "\n",
        "#Returns the current minimum value in the stack. If min_stack is empty, it returns None.\n",
        "    def minvalue(self):\n",
        "        if not self.minvaluein_stack:\n",
        "            return None\n",
        "        return self.minvaluein_stack[-1]\n",
        "\n",
        "# Example usage:\n",
        "stack = Stack()\n",
        "stack.push(3)\n",
        "stack.push(5)\n",
        "stack.push(2)\n",
        "print(\"Minimum value in stack:\", stack.minvalue())  # Output: 2\n",
        "stack.pop()\n",
        "stack.push(4)\n",
        "stack.push(2)\n",
        "stack.pop()\n",
        "print(\"Minimum value in stack after pop:\", stack.minvalue())  # Output: 3\n"
      ],
      "metadata": {
        "colab": {
          "base_uri": "https://localhost:8080/"
        },
        "id": "A-0AfUaYtibJ",
        "outputId": "b9d27690-113e-4493-f64b-71371d459322"
      },
      "execution_count": null,
      "outputs": [
        {
          "output_type": "stream",
          "name": "stdout",
          "text": [
            "Minimum value in stack: 2\n",
            "Minimum value in stack after pop: 3\n"
          ]
        }
      ]
    },
    {
      "cell_type": "code",
      "source": [
        " Initialize:\n",
        "        stack = []         # Main stack to store values\n",
        "        min_stack = []     # Auxiliary stack to track minimum values\n",
        "\n",
        "    Method push(value):\n",
        "        stack.push(value)                           # Push value onto the main stack\n",
        "        if min_stack is empty OR value <= min_stack.top():\n",
        "            min_stack.push(value)                   # Push value onto min_stack\n",
        "\n",
        "    Method pop():\n",
        "        if stack is empty:\n",
        "            return None                             # Stack is empty, return None\n",
        "        popped_value = stack.pop()                  # Pop from the main stack\n",
        "        if popped_value == min_stack.top():\n",
        "            min_stack.pop()                         # If popped value is the current minimum, pop from min_stack\n",
        "        return popped_value\n",
        "\n",
        "    Method min():\n",
        "        if min_stack is empty:\n",
        "            return None                             # Min_stack is empty, return None\n",
        "        return min_stack.top()                      # Return the top value of min_stack"
      ],
      "metadata": {
        "id": "KhXGNfnGtzi7"
      },
      "execution_count": null,
      "outputs": []
    }
  ]
}